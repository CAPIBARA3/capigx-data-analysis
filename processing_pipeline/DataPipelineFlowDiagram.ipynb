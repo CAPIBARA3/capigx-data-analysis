{
 "cells": [
  {
   "cell_type": "markdown",
   "id": "0fec51bc-57e6-45df-aa6f-5bc3f32a14a3",
   "metadata": {},
   "source": [
    "# Data Management"
   ]
  },
  {
   "cell_type": "code",
   "execution_count": 73,
   "id": "484cb326-590f-4e38-9fea-a377c8a8a8b8",
   "metadata": {
    "tags": []
   },
   "outputs": [
    {
     "name": "stdout",
     "output_type": "stream",
     "text": [
      "Requirement already satisfied: graphviz in /Users/joanalnu/opt/anaconda3/lib/python3.12/site-packages (0.20.3)\n"
     ]
    }
   ],
   "source": [
    "!pip install graphviz"
   ]
  },
  {
   "cell_type": "code",
   "execution_count": 75,
   "id": "38908003-fee8-4c96-bd33-cc68df55cc32",
   "metadata": {
    "tags": []
   },
   "outputs": [
    {
     "data": {
      "text/plain": [
       "'CAPIBARA_Data_Workflow.png'"
      ]
     },
     "execution_count": 75,
     "metadata": {},
     "output_type": "execute_result"
    }
   ],
   "source": [
    "from graphviz import Digraph\n",
    "\n",
    "# Create a directed graph\n",
    "dot = Digraph(\"CAPIBARA Data Workflow\", format=\"png\")\n",
    "dot.attr(rankdir=\"TB\", size=\"12\", dpi=\"600\")\n",
    "\n",
    "# Define node styles\n",
    "dot.attr(\"node\", shape=\"box\", style=\"rounded, filled\", color=\"lightblue\", fontname=\"Arial\", fontsize=\"12\")\n",
    "\n",
    "# Nodes\n",
    "dot.node(\"monitoring\", \"Transient Monitoring mode\", color=\"orange\")\n",
    "dot.node(\"proposal\", \"Object-Oriented Mode\", color=\"orange\")\n",
    "dot.node(\"externalAlert\", \"Receive GCN Alert\\n(Always Listening)\", color=\"orange\")\n",
    "\n",
    "dot.node(\"processing\", \"Onboard Processing\\n(Transient Analysis)\", color=\"lightblue\")\n",
    "dot.node(\"alertAnalysis\", \"Assesment of Follow-Up\\nCapability/Availability\", color=\"lightblue\")\n",
    "\n",
    "dot.node(\"notransient\", \"No Transient Detection\", color=\"lightblue\")\n",
    "dot.node(\"transientDetection\", \"Trasient Detection\", color=\"lightblue\")\n",
    "dot.node(\"available\", \"Current FoV & not monitoring other transient\", color=\"lightblue\")\n",
    "dot.node(\"interferometry\", \"Location via Intensity Interferometry\", color=\"lightblue\")\n",
    "\n",
    "dot.node(\"alert\", \"GCN Alert\\n(real-time alert)\", color=\"lightblue\")\n",
    "dot.node(\"gammaray\", \"Continued Gamma-Ray Observation\", color=\"orange\")\n",
    "dot.node(\"xray\", \"X-ray Transient Follow-Up\", color=\"orange\")\n",
    "dot.node(\"obs\", \"Targeted Observations\\n(Gamma-/X-ray)\", color=\"orange\")\n",
    "\n",
    "dot.node(\"storage\", \"Temporary Onboard Storage\", color=\"lightblue\")\n",
    "\n",
    "dot.node(\"archive\", \"Earth-Based Archive\", color=\"lightgreen\")\n",
    "\n",
    "dot.node(\"proposalData\", \"Proposal Authors\\n(6-month period)\", color=\"lightgreen\")\n",
    "dot.node(\"transientData\", \"CAPIBARA\", color=\"lightgreen\")\n",
    "\n",
    "dot.node(\"publication\", \"Public Data Release\", color=\"lightgreen\")\n",
    "\n",
    "\n",
    "# Edges\n",
    "dot.edge(\"monitoring\", \"processing\")\n",
    "dot.edge(\"proposal\", \"processing\")\n",
    "dot.edge(\"externalAlert\", \"alertAnalysis\")\n",
    "\n",
    "dot.edge(\"processing\", \"notransient\")\n",
    "dot.edge(\"processing\", \"transientDetection\")\n",
    "dot.edge(\"alertAnalysis\", \"available\")\n",
    "\n",
    "dot.edge(\"notransient\", \"monitoring\")\n",
    "dot.edge(\"transientDetection\", \"interferometry\")\n",
    "dot.edge(\"interferometry\", \"alert\")\n",
    "dot.edge(\"transientDetection\", \"xray\")\n",
    "dot.edge(\"transientDetection\", \"gammaray\")\n",
    "dot.edge(\"available\", \"xray\")\n",
    "dot.edge(\"available\", \"gammaray\")\n",
    "dot.edge(\"proposal\", \"obs\")\n",
    "\n",
    "dot.edge(\"xray\", \"storage\")\n",
    "dot.edge(\"gammaray\", \"storage\")\n",
    "dot.edge(\"obs\", \"storage\")\n",
    "\n",
    "dot.edge(\"storage\", \"archive\", label=\"data downlink\", style=\"dashed\")\n",
    "\n",
    "dot.edge(\"archive\", \"proposalData\", label=\"\", style=\"dashed\")\n",
    "dot.edge(\"archive\", \"transientData\", label=\"\", style=\"dashed\")\n",
    "\n",
    "dot.edge(\"proposalData\", \"publication\", style=\"dashed\")\n",
    "dot.edge(\"transientData\", \"publication\", style=\"dashed\")\n",
    "\n",
    "# Add a legend\n",
    "with dot.subgraph(name=\"cluster_legend\") as legend:\n",
    "    legend.node(\"a\", \"Continuous = real-time processes\", style=\"\", color=\"gray\")\n",
    "    legend.node(\"b\", \"Dashed = manual processes\", style=\"dashed\", color=\"gray\")\n",
    "    legend.node(\"c\", \"Orange = Observation/Data Source\", color=\"orange\")\n",
    "    legend.node(\"d\", \"Blue = Onboard Processing\", color=\"lightblue\")\n",
    "    legend.node(\"e\", \"Green = Earth-based Processing\", color=\"lightgreen\")\n",
    "    \n",
    "    legend.edge(\"a\", \"b\", color=\"white\")\n",
    "    legend.edge(\"b\", \"c\", color=\"white\")\n",
    "    legend.edge(\"c\", \"d\", color=\"white\")\n",
    "    legend.edge(\"d\", \"e\", color=\"white\")\n",
    "    \n",
    "\n",
    "# Render the diagram\n",
    "dot.render(\"CAPIBARA_Data_Workflow\", view=True)"
   ]
  },
  {
   "cell_type": "code",
   "execution_count": null,
   "id": "c7b52c66-abe0-45d7-b239-76e8ecf41c50",
   "metadata": {},
   "outputs": [],
   "source": []
  }
 ],
 "metadata": {
  "kernelspec": {
   "display_name": "Python [conda env:base] *",
   "language": "python",
   "name": "conda-base-py"
  },
  "language_info": {
   "codemirror_mode": {
    "name": "ipython",
    "version": 3
   },
   "file_extension": ".py",
   "mimetype": "text/x-python",
   "name": "python",
   "nbconvert_exporter": "python",
   "pygments_lexer": "ipython3",
   "version": "3.12.7"
  }
 },
 "nbformat": 4,
 "nbformat_minor": 5
}
