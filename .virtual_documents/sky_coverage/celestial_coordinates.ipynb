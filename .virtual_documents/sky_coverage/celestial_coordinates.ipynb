


import matplotlib.pyplot as plt
import numpy as np

# Define the number of radial and azimuthal divisions for the circular and square tiles
n_radial = 6  # Number of radial divisions
n_azimuthal = 12  # Number of azimuthal divisions for circular tiles
n_latitude = 12  # Number of latitude bands for square tiles
n_longitude = 24  # Number of longitude divisions for square tiles

# Masking regions (e.g., near the Milky Way, Sun, Moon)
# Define these regions using RA and Dec ranges (example values below)
exclusion_regions = [
    {"RA_min": 17, "RA_max": 19, "Dec_min": -10, "Dec_max": 10},  # Near Milky Way
    {"RA_min": 12, "RA_max": 13, "Dec_min": -10, "Dec_max": 10},  # Near Sun (example)
    {"RA_min": 20, "RA_max": 21, "Dec_min": 0, "Dec_max": 10},  # Near Moon (example)
]

# Circular Tile Grid
def create_circular_tiles(ax):
    """Generate circular tiles over the polar plot."""
    for r in np.linspace(0, 2.0, n_radial + 1):
        ax.plot(np.linspace(0, 2 * np.pi, 100), [r] * 100, 'k--', alpha=0.5)  # Radial circles
    for theta in np.linspace(0, 2 * np.pi, n_azimuthal + 1):
        ax.plot([theta, theta], [0, 2.0], 'k--', alpha=0.5)  # Azimuthal lines

# Square Tile Grid
def create_square_tiles(ax):
    """Generate square tiles over the polar plot."""
    latitudes = np.linspace(-90, 90, n_latitude + 1)
    longitudes = np.linspace(0, 360, n_longitude + 1)
    for lat in latitudes:
        r = (lat + 90) / 180 * 2  # Normalize latitude to r
        ax.plot(np.linspace(0, 2 * np.pi, 100), [r] * 100, 'r--', alpha=0.5)
    for lon in longitudes:
        theta = lon * np.pi / 180  # Convert longitude to radians
        ax.plot([theta, theta], [0, 2.0], 'r--', alpha=0.5)

# Visualize Polar Plots with Tiles
fig, ax = plt.subplots(subplot_kw={'projection': 'polar'}, figsize=(10, 10))

# Plot observed points
ax.scatter(theta, r, c='purple', s=5, alpha=0.75, label='Observed Points')

# Add tile grids
create_circular_tiles(ax)
create_square_tiles(ax)

# Customize the plot
ax.set_theta_zero_location("N")  # Set 0° (North) at the top
ax.set_theta_direction(-1)  # Angles increase clockwise
ax.set_rmax(2.0)  # Set max radius for both hemispheres
ax.grid(True)
ax.set_title("Tiled Observed Sky Coordinates", va='bottom')
ax.legend(loc="upper right", bbox_to_anchor=(1.2, 1.2))

# Show the plot
plt.show()
fig.savefig('tiled_polar_graph.png', dpi=600)





import numpy as np
import matplotlib.pyplot as plt
from matplotlib.patches import Circle, Rectangle
from matplotlib.collections import PatchCollection

# Fixed parameters
field_radius = 600 / 60  # in degrees (50 arcminutes)
field_side = 600 / 60  # square side in degrees
resolution = field_radius  # Grid resolution in degrees
ra_range = np.arange(0, 360, resolution)  # RA in degrees
dec_range = np.arange(-90, 90, resolution)  # Dec in degrees

# Generate grid of fields
def generate_fields(ra_range, dec_range):
    ra_grid, dec_grid = np.meshgrid(ra_range, dec_range)
    return ra_grid.flatten(), dec_grid.flatten()

ra, dec = generate_fields(ra_range, dec_range)

# Plotting function for circular and square fields with borders
def plot_sky_tiling_with_borders(ra, dec, shape, size, projection, title):
    fig = plt.figure(figsize=(10, 5))
    ax = fig.add_subplot(111, projection=projection)
    ax.set_title(title, fontsize=14)
    ax.grid(True)

    # Transform coordinates for Mollweide projection
    patches = []
    if projection == "mollweide":
        ra_rad = np.radians(ra - 180)  # Convert RA to radians and shift
        dec_rad = np.radians(dec)  # Convert Dec to radians

        for ra_, dec_ in zip(ra_rad, dec_rad):
            if shape == "circular":
                patches.append(Circle((ra_, dec_), size, edgecolor="black", facecolor="blue", alpha=0.5))
            elif shape == "square":
                patches.append(Rectangle((ra_ - size / 2, dec_ - size / 2), size, size, edgecolor="black", facecolor="orange", alpha=0.5))

    else:  # Polar projection
        theta = np.radians(ra)
        r = 90 - dec

        for theta_, r_ in zip(theta, r):
            if shape == "circular":
                patches.append(Circle((theta_, r_), size, edgecolor="black", facecolor="blue", alpha=0.5))
            elif shape == "square":
                patches.append(Rectangle((theta_ - size / 2, r_ - size / 2), size, size, edgecolor="black", facecolor="orange", alpha=0.5))

    # Add patches to the plot
    patch_collection = PatchCollection(patches, match_original=True)
    ax.add_collection(patch_collection)

    fig.savefig(f'{shape}_{projection}_{title}.png')

# Plot circular fields with borders
plot_sky_tiling_with_borders(ra, dec, "circular", field_radius * np.pi / 180, "mollweide", "Circular Fields with Borders (Mollweide Projection)")
plot_sky_tiling_with_borders(ra, dec, "circular", field_radius * np.pi / 180, "polar", "Circular Fields with Borders (Polar Projection)")

# Plot square fields with borders
plot_sky_tiling_with_borders(ra, dec, "square", field_side * np.pi / 180, "mollweide", "Square Fields with Borders (Mollweide Projection)")
plot_sky_tiling_with_borders(ra, dec, "square", field_side * np.pi / 180, "polar", "Square Fields with Borders (Polar Projection)")


# Function to count tiles considering projection
def count_tiles_by_projection(ra, dec, shape, size, projection):
    tile_count = 0
    if projection == "mollweide":
        # For Mollweide projection
        ra_rad = np.radians(ra - 180)  # Convert RA to radians and shift
        dec_rad = np.radians(dec)     # Convert Dec to radians
        for ra_, dec_ in zip(ra_rad, dec_rad):
            if shape == "square":
                tile_count += 1  # Every center creates a square tile
            elif shape == "circular":
                # Check if the circular tile is valid within the sky bounds
                if dec_ - size >= -np.pi / 2 and dec_ + size <= np.pi / 2:
                    tile_count += 1

    elif projection == "polar":
        # For Polar projection
        theta = np.radians(ra)
        r = 90 - dec  # Convert Dec to polar radius
        for theta_, r_ in zip(theta, r):
            if shape == "square":
                tile_count += 1  # Every center creates a square tile
            elif shape == "circular":
                # Polar coordinates must ensure the field is within the bounds of 90 degrees
                if r_ - size >= 0 and r_ + size <= 180:
                    tile_count += 1

    return tile_count

# Count tiles for different projections and shapes
square_tile_count_mollweide = count_tiles_by_projection(ra, dec, "square", field_side, "mollweide")
circular_tile_count_mollweide = count_tiles_by_projection(ra, dec, "circular", field_radius, "mollweide")

square_tile_count_polar = count_tiles_by_projection(ra, dec, "square", field_side, "polar")
circular_tile_count_polar = count_tiles_by_projection(ra, dec, "circular", field_radius, "polar")

# Print results
print(f"Number of square tiles (Mollweide): {square_tile_count_mollweide}")
print(f"Number of circular tiles (Mollweide): {circular_tile_count_mollweide}")
print(f"Number of square tiles (Polar): {square_tile_count_polar}")
print(f"Number of circular tiles (Polar): {circular_tile_count_polar}")



