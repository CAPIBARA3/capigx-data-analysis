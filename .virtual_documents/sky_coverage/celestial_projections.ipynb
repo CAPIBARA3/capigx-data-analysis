


import matplotlib.pyplot as plt
import numpy as np

# Sample celestial coordinates (Right Ascension in hours, Declination in degrees)
ra_hours = np.linspace(0, 24, 100)  # RA from 0h to 24h
dec_degrees = np.linspace(-90, 90, 100)  # Dec from -90° to +90°

# Convert RA to degrees and then to radians
ra_radians = np.deg2rad(ra_hours * 15)  # 1 hour = 15 degrees
# Convert Dec to radians
dec_radians = np.deg2rad(dec_degrees)

# Create a meshgrid for the projection
RA, DEC = np.meshgrid(ra_radians, dec_radians)

# Plotting
plt.figure(figsize=(10, 5))
ax = plt.subplot(111, projection='hammer')

# Scatter plot
sc = ax.scatter(RA, DEC, c=DEC, cmap='viridis', alpha=0.75)

# Colorbar
plt.colorbar(sc, orientation='horizontal', label='Declination (radians)')

# Labels and grid
ax.set_title('Aitoff/Hammer Projection of Celestial Coordinates', pad=20)
ax.grid(True)

# Show plot
plt.show()

# Instructions
# You can replace the RA and Dec arrays with actual star data if you have it!
# Just make sure to convert RA to radians by multiplying by 15 and then np.deg2rad().
# Let me know if you want to customize it in any way!



import matplotlib.pyplot as plt
import numpy as np

# Sample celestial coordinates (Right Ascension in hours, Declination in degrees)
ra_hours = np.linspace(0, 24, 100)  # RA from 0h to 24h
dec_degrees = np.linspace(-90, 90, 100)  # Dec from -90° to +90°

# Convert RA to degrees and then to radians
ra_radians = np.deg2rad(ra_hours * 15)  # 1 hour = 15 degrees
# Convert Dec to radians
dec_radians = np.deg2rad(dec_degrees)

# Create a meshgrid for the projection
RA, DEC = np.meshgrid(ra_radians, dec_radians)

# Define the Milky Way band as a shaded region
def milky_way_band(ax):
    galactic_latitude_range = 10  # Approximate width of the Milky Way in degrees
    dec_milky_way_upper = np.linspace(-galactic_latitude_range, galactic_latitude_range, 100)
    ra_milky_way = np.linspace(-np.pi, np.pi, 200)  # Cover full RA range
    
    for dec_offset in [-1, 1]:  # Cover both upper and lower bands
        DEC_MW = np.deg2rad(dec_milky_way_upper * dec_offset)
        RA_MW = np.tile(ra_milky_way, (DEC_MW.shape[0], 1))
        ax.fill_between(ra_milky_way, np.min(DEC_MW), np.max(DEC_MW), color='gray', alpha=0.3)

# Plotting
plt.figure(figsize=(10, 5))
ax = plt.subplot(111, projection='hammer')

# Scatter plot
# sc = ax.scatter(RA, DEC, c=DEC, cmap='viridis', alpha=0.75)

# Shade Milky Way region
milky_way_band(ax)

# Colorbar
# plt.colorbar(sc, orientation='horizontal', label='Declination (radians)')

# Labels and grid
ax.set_title('Aitoff/Hammer Projection of Celestial Coordinates', pad=20)
ax.grid(True)
ax.legend()

# Show plot
plt.show()


import numpy as np
import matplotlib.pyplot as plt
import matplotlib.cm as cm

# Create Milky Way shadow
def milky_way_band(ax):
    galactic_latitude_range = 10  # Approximate width of the Milky Way in degrees
    dec_milky_way_upper = np.linspace(-galactic_latitude_range, galactic_latitude_range, 100)
    ra_milky_way = np.linspace(-np.pi, np.pi, 200)  # Cover full RA range
    
    for dec_offset in [-1, 1]:  # Cover both upper and lower bands
        DEC_MW = np.deg2rad(dec_milky_way_upper * dec_offset)
        RA_MW = np.tile(ra_milky_way, (DEC_MW.shape[0], 1))
        ax.fill_between(ra_milky_way, np.min(DEC_MW), np.max(DEC_MW), color='gray', alpha=0.3)


# Plotting
fig = plt.figure(figsize=(10,5))
ax = fig.add_subplot(111, projection='aitoff')

milky_way_band(ax) # plot milky way shadowed band

# Customization
plt.title('Aitoff Projection of Observable sky Shading', loc='right')
ax.grid(True)

plt.tight_layout()
plt.show()






