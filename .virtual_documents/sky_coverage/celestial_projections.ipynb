


import matplotlib.pyplot as plt
import numpy as np

# Sample celestial coordinates (Right Ascension in hours, Declination in degrees)
ra_hours = np.linspace(0, 24, 100)  # RA from 0h to 24h
dec_degrees = np.linspace(-90, 90, 100)  # Dec from -90° to +90°

# Convert RA to degrees and then to radians
ra_radians = np.deg2rad(ra_hours * 15)  # 1 hour = 15 degrees
# Convert Dec to radians
dec_radians = np.deg2rad(dec_degrees)

# Create a meshgrid for the projection
RA, DEC = np.meshgrid(ra_radians, dec_radians)

# Plotting
plt.figure(figsize=(10, 5))
ax = plt.subplot(111, projection='hammer')

# Scatter plot
sc = ax.scatter(RA, DEC, c=DEC, cmap='viridis', alpha=0.75)

# Colorbar
plt.colorbar(sc, orientation='horizontal', label='Declination (radians)')

# Labels and grid
ax.set_title('Aitoff/Hammer Projection of Celestial Coordinates', pad=20)
ax.grid(True)

# Show plot
plt.show()

# Instructions
# You can replace the RA and Dec arrays with actual star data if you have it!
# Just make sure to convert RA to radians by multiplying by 15 and then np.deg2rad().
# Let me know if you want to customize it in any way!



import numpy as np
import matplotlib.pyplot as plt
import matplotlib.cm as cm

# Define the Milky Way band as a shaded region
def milky_way_band(ax):
    galactic_latitude_range = 10  # Approximate width of the Milky Way in degrees
    dec_milky_way_upper = np.linspace(-galactic_latitude_range, galactic_latitude_range, 100)
    ra_milky_way = np.linspace(-np.pi, np.pi, 200)  # Cover full RA range
    
    for dec_offset in [-1, 1]:  # Cover both upper and lower bands
        DEC_MW = np.deg2rad(dec_milky_way_upper * dec_offset)
        RA_MW = np.tile(ra_milky_way, (DEC_MW.shape[0], 1))
        ax.fill_between(ra_milky_way, np.min(DEC_MW), np.max(DEC_MW), color='gray', alpha=0.3)

# Function to plot orbit with altitude shown using colormap
def plot_orbit(ax, inclination, orbit_type, color, semi_major_axis, eccentricity):
    # Generate RA values for a full orbit
    ra = np.linspace(-np.pi, np.pi, 500)

    if orbit_type == 'SSO':
        # SSO orbit is inclined at 98° with a circular path, hence the same dec for all RA
        dec = np.full_like(ra, np.deg2rad(inclination))
        altitude = np.full_like(ra, semi_major_axis - 6371)  # Constant altitude for SSO (since it's circular)
    elif orbit_type == 'HEO':
        # Highly elliptical orbit: semi-major axis (a) and eccentricity (e)
        a = semi_major_axis  # semi-major axis in km (e.g., 30,000 km for HEO)
        e = eccentricity  # eccentricity (e.g., 0.6)
        
        # Parametric equations for elliptical orbit
        theta = ra  # Using RA as the true anomaly angle
        
        # Elliptical orbit equation for radius (in km):
        r = a * (1 - e**2) / (1 + e * np.cos(theta))
        
        # Calculate the altitude (in km)
        altitude = r - 6371  # Subtract Earth's radius to get the altitude
        
        # For simplicity, assume the eccentric anomaly and the corresponding declination
        # This part uses the fact that for an elliptical orbit, declination will vary as a function of the orbit's eccentricity
        dec = np.sin(theta) * np.deg2rad(45) * (1 - e)  # Varying declination based on eccentricity
    elif orbit_type == 'Equatorial LEO':
        # Equatorial LEO with zero inclination (i.e., along the equator)
        dec = np.zeros_like(ra)  # All points have dec = 0
        altitude = np.full_like(ra, semi_major_axis - 6371)  # Constant altitude for LEO (circular orbit)

    # Plot the orbit on the Aitoff projection with colormap for altitude
    sc = ax.scatter(ra, dec, c=altitude, cmap='plasma', label=f'{orbit_type} Orbit', s=1)

    return sc

# Plotting
fig = plt.figure(figsize=(10, 5))
ax = fig.add_subplot(111, projection='aitoff')

# Shade Milky Way region
milky_way_band(ax)

# Plot the orbits
sc_sso = plot_orbit(ax, 98, 'SSO', color='blue', semi_major_axis=7000, eccentricity=0)  # SSO Orbit in blue
sc_heo = plot_orbit(ax, 45, 'HEO', color='red', semi_major_axis=30000, eccentricity=0.6)  # HEO Orbit in red
sc_leo = plot_orbit(ax, 0, 'Equatorial LEO', color='green', semi_major_axis=7000, eccentricity=0)  # Equatorial LEO in green

# Customize
plt.title('Aitoff Projection with Milky Way Band and Satellite Orbits', loc='right')
ax.grid(True)
plt.colorbar(sc_heo, ax=ax, orientation='horizontal', label='Altitude (km)') # Add colorbar
ax.legend()
plt.tight_layout()
plt.show()





a = 30000
e = 0.6
theta = np.linspace(-np.pi, np.pi, 500)
r = a * (1 - e**2) / (1 + e * np.cos(theta))
plt.figure()
plt.plot(theta, r)
plt.plot(theta, r-6370)
plt.show()


import numpy as np
import matplotlib.pyplot as plt
import matplotlib.cm as cm

# Define the Milky Way band as a shaded region
def milky_way_band(ax):
    galactic_latitude_range = 10  # Approximate width of the Milky Way in degrees
    dec_milky_way_upper = np.linspace(-galactic_latitude_range, galactic_latitude_range, 100)
    ra_milky_way = np.linspace(-np.pi, np.pi, 200)  # Cover full RA range
    
    for dec_offset in [-1, 1]:  # Cover both upper and lower bands
        DEC_MW = np.deg2rad(dec_milky_way_upper * dec_offset)
        RA_MW = np.tile(ra_milky_way, (DEC_MW.shape[0], 1))
        ax.fill_between(ra_milky_way, np.min(DEC_MW), np.max(DEC_MW), color='gray', alpha=0.3)

# Function to plot observable sky
def plot_observable_sky(ax, orbit_type, semi_major_axis, eccentricity, baseline_distance=1000, fov_angle=10):
    ra = np.linspace(-np.pi, np.pi, 500)
    
    if orbit_type == 'HEO':
        # Highly elliptical orbit: semi-major axis (a) and eccentricity (e)
        a = semi_major_axis  # semi-major axis in km (e.g., 30,000 km for HEO)
        e = eccentricity  # eccentricity (e.g., 0.6)
        
        # Parametric equations for elliptical orbit
        theta = ra  # Using RA as the true anomaly angle
        
        # Elliptical orbit equation for radius (in km):
        r = a * (1 - e**2) / (1 + e * np.cos(theta))
        
        # Calculate observable region based on FOV and orbit position
        dec = np.sin(theta) * np.deg2rad(45) * (1 - e)  # Varying declination based on eccentricity

        # Plot observable sky as a "field of view" (FOV) in a cone-like pattern
        for i in range(len(ra)):
            ax.plot([ra[i] - np.deg2rad(fov_angle/2), ra[i] + np.deg2rad(fov_angle/2)], 
                    [dec[i] - np.deg2rad(fov_angle/2), dec[i] + np.deg2rad(fov_angle/2)], color='red', alpha=0.3)

    elif orbit_type == 'LEO':
        # LEO orbit: semi-major axis (a), and altitude (altitude above Earth's surface)
        altitude = semi_major_axis - 6371  # LEO altitude is given by semi-major axis minus Earth's radius
        # Constant FOV (10 degrees) in LEO
        fov_radius = np.deg2rad(fov_angle / 2)
        
        # The satellite will always have a constant observable region around its current position
        dec = np.linspace(-np.pi/2, np.pi/2, 500)  # Equator-centered observable region
        ra = np.linspace(-np.pi, np.pi, 500)

        # Plot observable sky as a "field of view" (FOV) in LEO
        for i in range(len(ra)):
            ax.plot([ra[i] - fov_radius, ra[i] + fov_radius], 
                    [dec[i] - fov_radius, dec[i] + fov_radius], color='blue', alpha=0.3)

# Function to plot constellation (three satellites in a baseline configuration)
def plot_constellation(ax, orbit_type, semi_major_axis, eccentricity, baseline_distance=1000, fov_angle=10):
    # LEO and HEO are handled separately
    plot_observable_sky(ax, orbit_type, semi_major_axis, eccentricity, baseline_distance, fov_angle)
    
    # Plotting for the 3 satellites with baseline (constant 1000 km separation)
    if orbit_type == 'LEO':
        # LEO - Regular constant orbit (e.g., at 700 km altitude)
        satellite_positions_ra = np.linspace(-np.pi, np.pi, 3)
        satellite_positions_dec = np.linspace(-np.pi/2, np.pi/2, 3)
        
        for ra_pos, dec_pos in zip(satellite_positions_ra, satellite_positions_dec):
            ax.scatter(ra_pos, dec_pos, color='orange', s=50, label='Satellite')
    
    elif orbit_type == 'HEO':
        # HEO - Elliptical orbit (larger FoV)
        satellite_positions_ra = np.linspace(-np.pi, np.pi, 3)
        satellite_positions_dec = np.linspace(-np.pi/4, np.pi/4, 3)
        
        for ra_pos, dec_pos in zip(satellite_positions_ra, satellite_positions_dec):
            ax.scatter(ra_pos, dec_pos, color='green', s=50, label='Satellite')

# Plotting sky coverage
fig = plt.figure(figsize=(10, 5))
ax = fig.add_subplot(111, projection='aitoff')

# Shade Milky Way region
milky_way_band(ax)

plot_observable_sky(ax, orbit_type='HEO', semi_major_axis=30000, eccentricity=0.6, fov_angle=20) # Plot observable sky for HEO
plot_observable_sky(ax, orbit_type='LEO', semi_major_axis=7000, eccentricity=0, fov_angle=10) # Plot observable sky for LEO

# Customize
plt.title('Observable Sky by Orbit', loc='right')
ax.grid(True)
plt.tight_layout()
plt.show()





import numpy as np
import matplotlib.pyplot as plt
import matplotlib.animation as animation

# Constants for the HEO orbit
earth_radius = 6371  # Earth radius in km
periapsis = 10000  # Periapsis (closest point to Earth) in km
apoapsis = 50000  # Apoapsis (farthest point from Earth) in km

# Semi-major axis and eccentricity calculation
a = (earth_radius + periapsis + earth_radius + apoapsis) / 2  # Semi-major axis in km
e = (earth_radius + apoapsis - (earth_radius + periapsis)) / (earth_radius + apoapsis + earth_radius + periapsis)  # Eccentricity

# Time and orbital period
num_frames = 500  # Number of frames in the video

# Create figure for plotting
fig, ax = plt.subplots(figsize=(6, 6))
ax.set_xlim(-60_000, 60_000)
ax.set_ylim(-60_000, 60_000)
ax.set_aspect('equal', 'box')

# Draw the Earth
earth_circle = plt.Circle((0, 0), earth_radius, color='blue', label='Earth')
ax.add_patch(earth_circle)

# Orbit path (ellipse)
theta = np.linspace(0, 2 * np.pi, 100)
x_orbit = a * (1 - e**2) / (1 + e * np.cos(theta)) * np.cos(theta)
y_orbit = a * (1 - e**2) / (1 + e * np.cos(theta)) * np.sin(theta)
ax.plot(-x_orbit, -y_orbit, color='gray', linestyle='--', label="Orbit Path")

# Plot satellite as a point (scatter plot)
satellite_scatter = ax.scatter([], [], color='red', s=10, label='Satellite')

# Function to update satellite position for each frame
def update(frame):
    # Calculate the true anomaly (angle) for the satellite
    angle = 2 * np.pi * frame / num_frames  # Full orbit in num_frames frames
    
    # Calculate the current orbital radius using the elliptical orbit formula
    r = a * (1 - e**2) / (1 + e * np.cos(angle))
    
    # Compute the satellite's position in the orbit
    x = r * np.cos(angle)
    y = r * np.sin(angle)

    # Update satellite position
    satellite_scatter.set_offsets([-x, -y])

    return satellite_scatter

# Create the animation
ani = animation.FuncAnimation(fig, update, frames=num_frames, interval=50, blit=False)
ani.save('satellite_orbit_video_single.mp4', writer='ffmpeg', fps=30) # save animation





import numpy as np
import matplotlib.pyplot as plt
import matplotlib.animation as animation

# Constants for the HEO orbit
earth_radius = 6371  # Earth radius in km
periapsis = 10000  # Periapsis (closest point to Earth) in km
apoapsis = 50000  # Apoapsis (farthest point from Earth) in km

# Semi-major axis and eccentricity calculation
a = (earth_radius + periapsis + earth_radius + apoapsis) / 2  # Semi-major axis in km
e = (earth_radius + apoapsis - (earth_radius + periapsis)) / (earth_radius + apoapsis + earth_radius + periapsis)  # Eccentricity

# Time and orbital period
num_frames = 1500  # Number of frames in the video

# Create figure for plotting
fig, ax = plt.subplots(figsize=(6, 6))
ax.set_xlim(-60_000, 60_000)
ax.set_ylim(-60_000, 60_000)
ax.set_aspect('equal', 'box')

# Draw the Earth
earth_circle = plt.Circle((0, 0), earth_radius, color='blue', label='Earth')
ax.add_patch(earth_circle)

# Orbit path (ellipse)
theta = np.linspace(0, 2 * np.pi, 100)
x_orbit = a * (1 - e**2) / (1 + e * np.cos(theta)) * np.cos(theta)
y_orbit = a * (1 - e**2) / (1 + e * np.cos(theta)) * np.sin(theta)
ax.plot(-x_orbit, -y_orbit, color='gray', linestyle='--', label="Orbit Path")

# Plot satellites as points (scatter plot)
satellite_scatter = ax.scatter([], [], color='red', s=10, label='Satellite 1')
satellite_scatter2 = ax.scatter([], [], color='green', s=10, label='Satellite 2')
satellite_scatter3 = ax.scatter([], [], color='blue', s=10, label='Satellite 3')

# Function to update satellite positions for each frame
def update(frame):
    # Calculate the true anomaly (angle) for the first satellite
    angle = 2 * np.pi * frame / num_frames  # Full orbit in num_frames frames
    
    # Calculate the current orbital radius using the elliptical orbit formula
    r = a * (1 - e**2) / (1 + e * np.cos(angle))
    
    # Compute the positions of the three satellites with small offsets
    # Satellite 1: Reference satellite
    x1 = r * np.cos(angle)
    y1 = r * np.sin(angle)

    # Satellite 2: 15 degrees ahead
    angle2 = angle + np.radians(15)  # Phase shift by 15 degrees
    x2 = r * np.cos(angle2)
    y2 = r * np.sin(angle2)

    # Satellite 3: 30 degrees ahead
    angle3 = angle + np.radians(-15)  # Phase shift by 30 degrees
    x3 = r * np.cos(angle3)
    y3 = r * np.sin(angle3)

    # Update satellite positions
    satellite_scatter.set_offsets([-x1, y1])
    satellite_scatter2.set_offsets([-x2, y2])
    satellite_scatter3.set_offsets([-x3, y3])

    return satellite_scatter, satellite_scatter2, satellite_scatter3

# Create the animation
ani = animation.FuncAnimation(fig, update, frames=num_frames, interval=50, blit=False)

# Save the animation as a video file (MP4)
ani.save('satellite_orbit_video_three_satellites.mp4', writer='ffmpeg', fps=30)

# Show the plot (this is optional)
plt.legend(loc='upper right')
plt.show()


import numpy as np
import matplotlib.pyplot as plt
import matplotlib.animation as animation
from mpl_toolkits.axes_grid1 import make_axes_locatable

# Constants for the HEO orbit
earth_radius = 6371  # Earth radius in km
periapsis = 10000  # Periapsis (closest point to Earth) in km
apoapsis = 50000  # Apoapsis (farthest point from Earth) in km

# Semi-major axis and eccentricity calculation
a = (earth_radius + periapsis + earth_radius + apoapsis) / 2  # Semi-major axis in km
e = (earth_radius + apoapsis - (earth_radius + periapsis)) / (earth_radius + apoapsis + earth_radius + periapsis)  # Eccentricity

# Time and orbital period
num_frames = 1500  # Number of frames in the video

# Create figure for plotting
fig, ax = plt.subplots(figsize=(6, 6), subplot_kw={'projection': 'aitoff'})

# Set limits for the plot (Aitoff projection is circular)
ax.set_xlim(-np.pi, np.pi)
ax.set_ylim(-np.pi/2, np.pi/2)

# Draw the Earth (we'll simulate it as a circle in this case)
earth_circle = plt.Circle((0, 0), earth_radius, color='blue', label='Earth', transform=ax.transAxes, zorder=5)
ax.add_patch(earth_circle)

# Orbit path (ellipse)
theta = np.linspace(0, 2 * np.pi, 100)
x_orbit = a * (1 - e**2) / (1 + e * np.cos(theta)) * np.cos(theta)
y_orbit = a * (1 - e**2) / (1 + e * np.cos(theta)) * np.sin(theta)
ax.plot(x_orbit, y_orbit, color='gray', linestyle='--', label="Orbit Path")

# Plot satellites as points (scatter plot)
satellite_scatter = ax.scatter([], [], color='red', s=10, label='Satellite 1')
satellite_scatter2 = ax.scatter([], [], color='green', s=10, label='Satellite 2')
satellite_scatter3 = ax.scatter([], [], color='blue', s=10, label='Satellite 3')

# Function to update satellite positions for each frame
def update(frame):
    # Calculate the true anomaly (angle) for the first satellite
    angle = 2 * np.pi * frame / num_frames  # Full orbit in num_frames frames
    
    # Calculate the current orbital radius using the elliptical orbit formula
    r = a * (1 - e**2) / (1 + e * np.cos(angle))
    
    # Compute the positions of the three satellites with small offsets
    # Satellite 1: Reference satellite
    x1 = r * np.cos(angle)
    y1 = r * np.sin(angle)

    # Satellite 2: 15 degrees ahead
    angle2 = angle + np.radians(15)  # Phase shift by 15 degrees
    x2 = r * np.cos(angle2)
    y2 = r * np.sin(angle2)

    # Satellite 3: 30 degrees ahead
    angle3 = angle + np.radians(-15)  # Phase shift by 30 degrees
    x3 = r * np.cos(angle3)
    y3 = r * np.sin(angle3)

    # Update satellite positions on the Aitoff projection
    satellite_scatter.set_offsets([(x1, y1)])
    satellite_scatter2.set_offsets([(x2, y2)])
    satellite_scatter3.set_offsets([(x3, y3)])

    return satellite_scatter, satellite_scatter2, satellite_scatter3

# Create the animation
ani = animation.FuncAnimation(fig, update, frames=num_frames, interval=50, blit=False)

# Save the animation as a video file (MP4)
ani.save('satellite_orbit_video_three_satellites_aitoff.mp4', writer='ffmpeg', fps=30)

# Show the plot (this is optional)
plt.legend(loc='upper right')
plt.show()



!pip install cartopy



