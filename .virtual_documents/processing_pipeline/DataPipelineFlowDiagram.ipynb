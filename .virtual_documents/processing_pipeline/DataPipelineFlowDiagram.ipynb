


!pip install graphviz


from graphviz import Digraph

# Create a directed graph
dot = Digraph("CAPIBARA Data Workflow", format="png")
dot.attr(rankdir="TB", size="12", dpi="600")

# Define node styles
dot.attr("node", shape="box", style="rounded, filled", color="lightblue", fontname="Arial", fontsize="12")

# Main components
dot.node("SurveyMode", "Survey Mode\n(Sky Survey)", color="orange")
dot.node("ProposalMode", "Proposal-driven Mode\n(External Applications)", color="orange")

dot.node("OnboardProcessing", "Onboard Processing\n(Transient Analysis)", color="pink")

dot.node("Alert", "Alert via Kafka GCN", color="pink")
dot.node("OtherObs", "External Follow-Up Obs")
dot.node("Redirection", "Automatic X-ray Follow-Up", color="pink")

dot.node("OnboardStorage", "Temporary Onboard Storage", color="pink")

dot.node("Archive", "Earth-based Archive", color="lightgreen")

dot.node("Collab", "CAPIBARA Collaboration", color="lightgreen")
dot.node("Propietary", "Proposal Authors", color="lightgreen")

dot.node("Release", "Semestral/Yearly Data Releases", color="lightgreen")

# define connections
dot.edge("SurveyMode", "OnboardProcessing", label="", style='dashed')
dot.edge("ProposalMode", "OnboardProcessing", label="", style='dashed')

# dot.edge("OnboardProcessing", "RegularData", label="")
# dot.edge("OnboardProcessing", "Transient", labe="")

dot.edge("OnboardProcessing", "Alert", label="Transient Detection", style='dashed')
dot.edge("OnboardProcessing", "Redirection", label="", style='dashed')
dot.edge("Alert", "OtherObs", label="", style='dashed')

dot.edge("OnboardProcessing", "OnboardStorage", label="Regular Data", style="dashed")
dot.edge("Redirection", "OnboardStorage", label="", style="dashed")

dot.edge("OnboardStorage", "Archive", label="Data Downlink")

dot.edge("Archive", "Collab", label="Survey Data")
dot.edge("Archive", "Propietary", label="Proposal Data")

dot.edge("Collab", "Release", label="")
dot.edge("Propietary", "Release", label="")

# Add a legend
# with dot.subgraph(name="cluster_legend") as legend:
    # legend.attr(label="Legend", color="black", style="dashed")
    # legend.node("Dashed", "Dashed = Onboard Storage or Proprietary Data", style="dashed", color="gray")
    # legend.node("Dotted", "Dotted = Real-Time Alerts", style="dotted", color="gray")

# Render the diagram
dot.render("CAPIBARA_Data_Workflow", view=True)



