


!pip install graphviz


from graphviz import Digraph

# Create a directed graph
dot = Digraph("CAPIBARA Data Workflow", format="png")
dot.attr(rankdir="TB", size="12", dpi="600")

# Define node styles
dot.attr("node", shape="box", style="rounded, filled", color="lightblue", fontname="Arial", fontsize="12")

# Nodes
dot.node("monitoring", "Transient Monitoring mode", color="orange")
dot.node("proposal", "Object-Oriented Mode", color="orange")
dot.node("externalAlert", "Receive GCN Alert\n(Always Listening)", color="orange")

dot.node("processing", "Onboard Processing\n(Transient Analysis)", color="lightblue")
dot.node("alertAnalysis", "Assesment of Follow-Up\nCapability/Availability", color="lightblue")

dot.node("notransient", "No Transient Detection", color="lightblue")
dot.node("transientDetection", "Trasient Detection", color="lightblue")
dot.node("available", "Current FoV & not monitoring other transient", color="lightblue")
dot.node("interferometry", "Location via Intensity Interferometry", color="lightblue")

dot.node("alert", "GCN Alert\n(real-time alert)", color="lightblue")
dot.node("gammaray", "Continued Gamma-Ray Observation", color="orange")
dot.node("xray", "X-ray Transient Follow-Up", color="orange")
dot.node("obs", "Targeted Observations\n(Gamma-/X-ray)", color="orange")

dot.node("storage", "Temporary Onboard Storage", color="lightblue")

dot.node("archive", "Earth-Based Archive", color="lightgreen")

dot.node("proposalData", "Proposal Authors\n(6-month period)", color="lightgreen")
dot.node("transientData", "CAPIBARA", color="lightgreen")

dot.node("publication", "Public Data Release", color="lightgreen")


# Edges
dot.edge("monitoring", "processing")
dot.edge("proposal", "processing")
dot.edge("externalAlert", "alertAnalysis")

dot.edge("processing", "notransient")
dot.edge("processing", "transientDetection")
dot.edge("alertAnalysis", "available")

dot.edge("notransient", "monitoring")
dot.edge("transientDetection", "interferometry")
dot.edge("interferometry", "alert")
dot.edge("transientDetection", "xray")
dot.edge("transientDetection", "gammaray")
dot.edge("available", "xray")
dot.edge("available", "gammaray")
dot.edge("proposal", "obs")

dot.edge("xray", "storage")
dot.edge("gammaray", "storage")
dot.edge("obs", "storage")

dot.edge("storage", "archive", label="data downlink", style="dashed")

dot.edge("archive", "proposalData", label="", style="dashed")
dot.edge("archive", "transientData", label="", style="dashed")

dot.edge("proposalData", "publication", style="dashed")
dot.edge("transientData", "publication", style="dashed")

# Add a legend
with dot.subgraph(name="cluster_legend") as legend:
    legend.node("a", "Continuous = real-time processes", style="", color="gray")
    legend.node("b", "Dashed = manual processes", style="dashed", color="gray")
    legend.node("c", "Orange = Observation/Data Source", color="orange")
    legend.node("d", "Blue = Onboard Processing", color="lightblue")
    legend.node("e", "Green = Earth-based Processing", color="lightgreen")
    
    legend.edge("a", "b", color="white")
    legend.edge("b", "c", color="white")
    legend.edge("c", "d", color="white")
    legend.edge("d", "e", color="white")
    

# Render the diagram
dot.render("CAPIBARA_Data_Workflow", view=True)



